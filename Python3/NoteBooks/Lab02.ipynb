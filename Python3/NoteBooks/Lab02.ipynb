{
 "cells": [
  {
   "cell_type": "markdown",
   "metadata": {},
   "source": [
    "# Lab 02. Conditional statements. "
   ]
  },
  {
   "cell_type": "markdown",
   "metadata": {},
   "source": [
    "### Remember that you must solve these exercises using *if*, *if_else* y *elif*."
   ]
  },
  {
   "cell_type": "markdown",
   "metadata": {},
   "source": [
    "# Exercises\n",
    "\n",
    "[P2_01. Absolute value](#P2_01.)  \n",
    "[P2_02. Even numbers](#P2_02.)  \n",
    "[P2_03. Biggest number](#P2_03.)  \n",
    "[P2_04. Biggest and smallest numbers](#*P2_04.)  \n",
    "[P2_05. Intervals](#P2_05.)  \n",
    "[P2_06. Menu](#P2_06.)  \n",
    "[P2_07. Where is my classroom?](#*P2_07.)  \n",
    "[P2_08. Simple math](#*P2_08.)  \n",
    "[P2_09. Courier company](#*P2_09.)  \n",
    "[P2_10. Day of week](#P2_10.)  \n",
    "[P2_11. Week day or weekend](#*P2_11.)  \n",
    "[P2_12. Adding two numbers](#*P2_12.)  "
   ]
  },
  {
   "cell_type": "markdown",
   "metadata": {},
   "source": [
    "### P2_01.  \n",
    "Write a program that reads a number from terminal and show its absolute value. (Hint remember function *abs*).  \n",
    "Example:  \n",
    "~~~\n",
    "Please, input a number: -4\n",
    "The absolute value of -4 is 4\n",
    "~~~\n"
   ]
  },
  {
   "cell_type": "code",
   "execution_count": 3,
   "metadata": {},
   "outputs": [],
   "source": [
    "# Your code here\n"
   ]
  },
  {
   "cell_type": "markdown",
   "metadata": {},
   "source": [
    "### P2_02.  \n",
    "Write a program that reads an integer number from terminal, and shows a message only if the number is even.  \n",
    "Example:  \n",
    "~~~\n",
    "Please, input a number: 4\n",
    "Your number 4 is even\n",
    "~~~\n"
   ]
  },
  {
   "cell_type": "code",
   "execution_count": 2,
   "metadata": {
    "collapsed": true
   },
   "outputs": [],
   "source": [
    "# Your code hereterminal\n"
   ]
  },
  {
   "cell_type": "markdown",
   "metadata": {},
   "source": [
    "### P2_03.  \n",
    "Write a program that reads 3 numbers from terminal, **a, b y c** and tell us the biggest of the three.  \n",
    "Example:  \n",
    "~~~\n",
    "Please, input a number: 4 \n",
    "input a second number: 2\n",
    "input a third one: 3\n",
    "Biggest number is 4\n",
    "~~~"
   ]
  },
  {
   "cell_type": "code",
   "execution_count": 3,
   "metadata": {
    "collapsed": true
   },
   "outputs": [],
   "source": [
    "# Your code here\n"
   ]
  },
  {
   "cell_type": "markdown",
   "metadata": {},
   "source": [
    "### P2_04. \n",
    "Write a program that reads 3 numbers from terminal, a, b y c and tell us the biggest and the smallest.  \n",
    "Example:  \n",
    "~~~\n",
    "Please, input a number: 4 \n",
    "input a second number: 2\n",
    "input a third one: 3\n",
    "Biggest number is 4 and smallest is 2\n",
    "~~~\n",
    "\n",
    "    "
   ]
  },
  {
   "cell_type": "code",
   "execution_count": 4,
   "metadata": {
    "collapsed": true
   },
   "outputs": [],
   "source": [
    "# Your code here\n"
   ]
  },
  {
   "cell_type": "markdown",
   "metadata": {},
   "source": [
    "### P2_05.  \n",
    "Write a program that reads 3 real numbers from terminal, **a, b** y **v**. It should tell us if number **v** is included in the interval delimited by **a** and **b**. (Hint: the interval could be **[a, b]** or **[b, a]**).   \n",
    "~~~\n",
    "Please, input a limit of the interval: 4.32\n",
    "Input the second limit: 1.78\n",
    "Input a number to check: 4.12\n",
    "4.12 is in the interval [1.78, 4.32]\n",
    "~~~  "
   ]
  },
  {
   "cell_type": "code",
   "execution_count": 1,
   "metadata": {},
   "outputs": [],
   "source": [
    "# Your code here\n"
   ]
  },
  {
   "cell_type": "markdown",
   "metadata": {},
   "source": [
    "### P2_06.  \n",
    "Write a program that shows a menu with the following options:\n",
    "~~~\n",
    "a. Add  \n",
    "b. Delete  \n",
    "c. Sort\n",
    "d. Print\n",
    "Choose your option:\n",
    "~~~\n",
    "\n",
    "Program should show the chosen option or an error message if the option is not one of the available ones. \n",
    "Example:   \n",
    "~~~\n",
    "Choose your option: b \n",
    "Your choice is DELETE\n",
    "~~~\n",
    "Example: \n",
    "~~~\n",
    "Choose your option: j\n",
    "Option not avalable\n",
    "\n",
    "~~~\n",
    "\n",
    "    "
   ]
  },
  {
   "cell_type": "code",
   "execution_count": 6,
   "metadata": {
    "collapsed": true
   },
   "outputs": [],
   "source": [
    "# Your code here\n"
   ]
  },
  {
   "cell_type": "markdown",
   "metadata": {},
   "source": [
    "### P2_07.  \n",
    "Write a program that reads an student family name and assigns a classroom according the following table:\n",
    "~~~\n",
    "Names starting with A to F -> Room 1\n",
    "Names starting with G to J -> Room 2\n",
    "Names starting with K to Ñ -> Room 3\n",
    "Names starting with O to Z -> Room 4\n",
    "~~~\n",
    "If the first character is not a letter, it shoud rise an error.  (Hint: the input can be uppercase or lowercase)\n",
    "\n",
    "Example:  \n",
    "~~~\n",
    "Input your name: Smith\n",
    "You have been assigned Room 4\n",
    "~~~"
   ]
  },
  {
   "cell_type": "code",
   "execution_count": 7,
   "metadata": {
    "collapsed": true
   },
   "outputs": [],
   "source": [
    "# Your code here\n"
   ]
  },
  {
   "cell_type": "markdown",
   "metadata": {},
   "source": [
    "### P2_08.  \n",
    "Write a program that reads 2 real numbers from terminal **a, b** and an operator (+,-,/,*). Program will show the result of applying the correspoding operation to **a** and **b**. \n",
    "Example: \n",
    "~~~\n",
    "Input a number: 4.4\n",
    "Input a second one: 2\n",
    "Which operation will like to perform?: *\n",
    "The result of 4.4 * 2.0 is 8.80\n",
    "~~~\n",
    "\n",
    "    "
   ]
  },
  {
   "cell_type": "code",
   "execution_count": 8,
   "metadata": {
    "collapsed": true
   },
   "outputs": [],
   "source": [
    "# Your code here\n"
   ]
  },
  {
   "cell_type": "markdown",
   "metadata": {},
   "source": [
    "### P2_09.  \n",
    "A courier company offers the following pricing schema:  \n",
    "* Volume (v):  \n",
    "    * If volume is less or equal 5m3, price is 3€;  \n",
    "    * If volume is greater than 5m3 but less than 10m3, they charge 5€;  \n",
    "    * If volume is greater than 10m3 they charge 0.5€ per m3.  \n",
    "* Weight (p):\n",
    "    * If weight is less or equal 2 kg, price is 1.7€ per kg;\n",
    "    * If weight is greater than 2 kg, 1.9€ per kg is charged\n",
    "\n",
    "The highest price of the two will be finally charged. Write a program that reads the dimensions of the package and its weight and shows the final price.\n",
    "\n",
    "Example: \n",
    "~~~\n",
    "Input package dimensions (in meters) \n",
    "length: 1  \n",
    "width: 1   \n",
    "height: 1  \n",
    "Input package weigth (in Kg): 2\n",
    "Your price is 3.4€\n",
    "~~~\n",
    "Example: \n",
    "~~~\n",
    "Input package dimensions (in meters) \n",
    "length: 2  \n",
    "width: 2  \n",
    "height: 2  \n",
    "Input package weigth (in Kg): 2\n",
    "Your price is  5€\n",
    "~~~\n",
    "    "
   ]
  },
  {
   "cell_type": "code",
   "execution_count": 9,
   "metadata": {
    "collapsed": true
   },
   "outputs": [],
   "source": [
    "# Your code here\n"
   ]
  },
  {
   "cell_type": "markdown",
   "metadata": {},
   "source": [
    "### P2_10.  \n",
    "Write a program that reads a number from 1 to 7 and shows the day of week corresponding to that day. If the number is not in that interval, it will show an error message\n",
    "Example: \n",
    "~~~\n",
    "Input your number: 2\n",
    "It's Tuesday\n",
    "~~~\n",
    "Example: \n",
    "~~~\n",
    "Input your number: 8\n",
    "That is not a valid choice\n",
    "~~~\n",
    "    "
   ]
  },
  {
   "cell_type": "code",
   "execution_count": 10,
   "metadata": {
    "collapsed": true
   },
   "outputs": [],
   "source": [
    "# Your code here\n"
   ]
  },
  {
   "cell_type": "markdown",
   "metadata": {},
   "source": [
    "### P2_11.  \n",
    "Write a number that reads a number from 1 to 7 and shows if that number corresponds to a week day or weekend. If the number is not in that interval, it will show an error message.   \n",
    "Example: \n",
    "~~~\n",
    "Input your number: 6\n",
    "It's weekend!!\n",
    "~~~\n",
    "Example: \n",
    "~~~\n",
    "Input your number: 2\n",
    "I'm sorry, it's week day\n",
    "~~~\n",
    "Example: \n",
    "~~~\n",
    "Input your number: 8\n",
    "That is not a valid choice\n",
    "~~~"
   ]
  },
  {
   "cell_type": "code",
   "execution_count": 11,
   "metadata": {
    "collapsed": true
   },
   "outputs": [],
   "source": [
    "# Your code here\n"
   ]
  },
  {
   "cell_type": "markdown",
   "metadata": {},
   "source": [
    "### P2_12.  \n",
    "Write a program tha reads three integers from terminal and checks if any of those numbers is the sum of the other two sowing us the result.  \n",
    "Example: \n",
    "~~~\n",
    "Input your first number: 1 \n",
    "Input your second number: 2\n",
    "Input your third number: 5\n",
    "None of those numbers can be written as the sum of the other two\n",
    "~~~\n",
    "Example: \n",
    "~~~\n",
    "Input your first number: 1 \n",
    "Input your second number: 2\n",
    "Input your third number: 3\n",
    "Cool! 1 + 2 = 3\n",
    "~~~"
   ]
  },
  {
   "cell_type": "code",
   "execution_count": 12,
   "metadata": {
    "collapsed": true
   },
   "outputs": [],
   "source": [
    "# Your code here\n"
   ]
  }
 ],
 "metadata": {
  "kernelspec": {
   "display_name": "Python 3",
   "language": "python",
   "name": "python3"
  },
  "language_info": {
   "codemirror_mode": {
    "name": "ipython",
    "version": 3
   },
   "file_extension": ".py",
   "mimetype": "text/x-python",
   "name": "python",
   "nbconvert_exporter": "python",
   "pygments_lexer": "ipython3",
   "version": "3.6.5"
  }
 },
 "nbformat": 4,
 "nbformat_minor": 2
}
