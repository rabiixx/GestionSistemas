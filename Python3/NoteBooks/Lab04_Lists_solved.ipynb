{
 "cells": [
  {
   "cell_type": "markdown",
   "metadata": {},
   "source": [
    "# Lab 04. Lists."
   ]
  },
  {
   "cell_type": "markdown",
   "metadata": {},
   "source": [
    "# Exercises\n",
    "\n",
    "[P4_13. Bigger than num](#P4_13.)   \n",
    "[P4_14. Inverse order](#P4_14.)   \n",
    "[P4_15. List multiplication](#P4_15.)   \n",
    "[P4_16. Count numbers](#P4_16.)  \n",
    "[P4_17. Triangular matrices](#P4_17.)  \n",
    "[P4_18. Symmetrical matrix](#P4_18.)  \n",
    "[P4_19. Vanishing integers](#P4_19.)  \n",
    "[P4_20. Compare matrices](#P4_20.)  \n",
    "[P4_21. Star gazing](#P4_21.)  \n",
    "[P4_22. Word drawing](#P4_22.)  \n",
    "[P4_23. Crosswords](#P4_23.)  \n",
    "  "
   ]
  },
  {
   "cell_type": "markdown",
   "metadata": {},
   "source": [
    "### P4_13.  \n",
    "Write a program that reads **N** (constant) integers in a list **v**. The program will then ask for a number **num** and show the position of thoe elements in **v** greater than **num**.  \n",
    "Example for N=10:  \n",
    "~~~\n",
    "Input 10 numbers:\n",
    "3  12  7  45  2  98  2  4  56  20\n",
    "Input a number: 40\n",
    "The position of the numbers bigger than 40 are: \n",
    "3  5  8\n",
    "\n",
    "~~~\n"
   ]
  },
  {
   "cell_type": "code",
   "execution_count": 1,
   "metadata": {},
   "outputs": [
    {
     "name": "stdout",
     "output_type": "stream",
     "text": [
      "Input {} numbers:  10\n",
      "1: 2\n",
      "2: 5\n",
      "3: 7\n",
      "4: 8\n",
      "5: 3\n",
      "6: 4\n",
      "7: 8\n",
      "8: 6\n",
      "9: 3\n",
      "10: 1\n",
      "Introduce a number: 5\n",
      "The position of the numbers bigger than 40 are: \n",
      " [2, 3, 6, 7]\n"
     ]
    }
   ],
   "source": [
    "# Your code here\n",
    "N=10\n",
    "print('Input {} numbers: ',format(N))\n",
    "\n",
    "seq = []\n",
    "for i in range(N):\n",
    "    seq.append(eval(input(\"{}: \".format(i+1))))\n",
    "    \n",
    "a = eval(input(\"Introduce a number: \"))\n",
    "\n",
    "bigger = [i for i,x in enumerate(seq) if x>a]\n",
    "\n",
    "print('The position of the numbers bigger than {} are: {}'.format(num,bigger))\n"
   ]
  },
  {
   "cell_type": "markdown",
   "metadata": {},
   "source": [
    "### P4_14.  \n",
    "Write a program that reads **N** (constant) integers in a list **v**. The program will create a new list **t** with the elements in **t** in reverse order.    \n",
    "Example for N=6: \n",
    "~~~\n",
    "Input 6 numbers: 1  3  5  8  4  6\n",
    "The new list is: 6  4  8  5  3  1\n",
    "~~~\n"
   ]
  },
  {
   "cell_type": "code",
   "execution_count": 11,
   "metadata": {},
   "outputs": [
    {
     "name": "stdout",
     "output_type": "stream",
     "text": [
      "Input 10 numbers: 1 2 3 4 5 6 5 4 3 4 5 6\n"
     ]
    }
   ],
   "source": [
    "N=10\n",
    "\n",
    "lista_txt = input('Input {} numbers: '.format(N))\n",
    "\n",
    "lista = [eval(i) for i in lista_txt.split()[:10]]\n",
    "\n",
    "lista.reverse()\n",
    "\n",
    "print('The new list is {}'.format(lista))\n"
   ]
  },
  {
   "cell_type": "markdown",
   "metadata": {},
   "source": [
    "### P4_15.  \n",
    "Write a program that reads two lists **a** y **b** of length **N** and generates a new list **c** with the product of both lists **a** y **b** element by element.  \n",
    "Example for N=6:  \n",
    "~~~\n",
    "Input 6 numbers: 2  2  6  3  11  5\n",
    "Input 6 numbers: 1  7  8  16  4  6\n",
    "The result is: 2  14  48  48  44  30\n",
    "~~~"
   ]
  },
  {
   "cell_type": "code",
   "execution_count": 1,
   "metadata": {},
   "outputs": [
    {
     "name": "stdout",
     "output_type": "stream",
     "text": [
      "Input 6 numbers: 1 2 3 4 5 6\n",
      "Input 6 numbers: 3 4 5 6 7 8\n",
      "El resultado es: [3, 8, 15, 24, 35, 48]\n"
     ]
    }
   ],
   "source": [
    "# Your code here\n",
    "N = 6\n",
    "\n",
    "lista_txt = input('Input {} numbers: '.format(N))\n",
    "\n",
    "lista_1 = [eval(i) for i in lista_txt.split()[:N]]\n",
    "\n",
    "lista_txt = input('Input {} numbers: '.format(N))\n",
    "\n",
    "lista_2 = [eval(i) for i in lista_txt.split()[:N]]\n",
    "\n",
    "lista_3 = []\n",
    "for i in range(N):\n",
    "    lista_3.append(lista_1[i] * lista_2[i])\n",
    "    \n",
    "print('El resultado es: {}'.format(lista_3))"
   ]
  },
  {
   "cell_type": "code",
   "execution_count": 3,
   "metadata": {},
   "outputs": [
    {
     "name": "stdout",
     "output_type": "stream",
     "text": [
      "El resultado es: [3, 8, 15, 24, 35, 48]\n"
     ]
    }
   ],
   "source": [
    "print('El resultado es: {}'.format([a*b for a,b in zip(lista_1,lista_2)]))"
   ]
  },
  {
   "cell_type": "markdown",
   "metadata": {},
   "source": [
    "### P4_16.  \n",
    "Write a program that reads **n** positive numbers integers in a list **t**  with values between **0** and **n-1**. The program will generat a new list **v** so that **v[i]** will be the number of times that **i** appears in list **t**. **n** will be set by the user and should be less than 20  \n",
    "Example:  \n",
    "\n",
    "~~~\n",
    "How many numbers do you want (Max 20): 8\n",
    "Input 8 positive integers less than 8:  7  6  6  3  5  5  0  5  \n",
    "The new list is: 1  0  0  1  0  3  2  1\n",
    "~~~\n",
    "\n",
    "    "
   ]
  },
  {
   "cell_type": "code",
   "execution_count": 12,
   "metadata": {},
   "outputs": [
    {
     "name": "stdout",
     "output_type": "stream",
     "text": [
      "How many numbers do you want to work with? 8\n",
      "Input 8 positive integers less than 8: 7  6  6  3  5  5  0  5\n",
      "The new list is: [1, 0, 0, 1, 0, 3, 2, 1]\n"
     ]
    }
   ],
   "source": [
    "n = eval(input(\"How many numbers do you want to work with? \"))\n",
    "\n",
    "seq = input('Input {} positive integers less than {}: '.format(n,n))\n",
    "\n",
    "t = [eval(i) for i in seq.split()[:n]]\n",
    "\n",
    "v = [t.count(i) for i in range(n)]\n",
    "\n",
    "print(\"The new list is: {}\".format(v))\n",
    "\n",
    "\n"
   ]
  },
  {
   "cell_type": "markdown",
   "metadata": {},
   "source": [
    "### P4_17.  \n",
    "Write a program that reads an integer matrix **m**(**N**x**N**, **N** constant) and write lower triangular matrix (including diagonal) and upper triangular matrix.\n",
    "Example:  \n",
    "~~~\n",
    "Input a 3x3 matrix:   \n",
    "\n",
    "1  2  3  \n",
    "2  5  8  \n",
    "3  8  10  \n",
    "\n",
    "Lower triangular matrix is:   \n",
    "\n",
    "1\n",
    "2  5  \n",
    "3  8  10  \n",
    "\n",
    "Upper triangular matrix is:  \n",
    "\n",
    "   2  3   \n",
    "      8  \n",
    "~~~\n",
    "\n",
    "    "
   ]
  },
  {
   "cell_type": "code",
   "execution_count": 15,
   "metadata": {},
   "outputs": [
    {
     "name": "stdout",
     "output_type": "stream",
     "text": [
      "\n",
      "Your matrix is:\n",
      " \n",
      "1 2 3 \n",
      "\n",
      "4 5 6 \n",
      "\n",
      "7 8 9 \n",
      "\n",
      "Lower triangular matrix is:\n",
      "\n",
      "1 \n",
      "\n",
      "4 5 \n",
      "\n",
      "7 8 9 \n",
      "\n",
      "Upper triangular matrix is:\n",
      " \n",
      "  2 3 \n",
      "\n",
      "    6 \n",
      "\n"
     ]
    }
   ],
   "source": [
    "N = 3\n",
    "# m = eval(input('Input a {} x {} matrix: '.format(N,N)))\n",
    "\n",
    "m = [[1,2,3],[4,5,6],[7,8,9]]\n",
    "\n",
    "print('\\nYour matrix is:\\n ')\n",
    "for i in range(N):\n",
    "    for j in range(N):\n",
    "        print(m[i][j], end=' ')\n",
    "    print('\\n')\n",
    "    \n",
    "print('Lower triangular matrix is:\\n')\n",
    "for i in range(N):\n",
    "    for j in range(i+1):\n",
    "        print(m[i][j], end=' ')\n",
    "    print('\\n')\n",
    "\n",
    "print('Upper triangular matrix is:\\n ')\n",
    "for i in range(N-1):\n",
    "    print(' ' * 2 * (i + 1), end = '')\n",
    "    for j in range(i+1,N):\n",
    "        print(m[i][j], end=' ')\n",
    "    print('\\n')"
   ]
  },
  {
   "cell_type": "markdown",
   "metadata": {},
   "source": [
    "### P4_18.  \n",
    "Write a program that reads an integer matrix m(NxN, N constant) and checks if it is symmetrical (a matrix **m** is symmetricalif **m**[ **i** ][ **j** ] = **m**[ **j** ][ **i** ] for every **i,j** = 1,…,**N**)  \n",
    "Example:  \n",
    "~~~\n",
    "Input a 3x3 matrix:\n",
    "\n",
    "1  2  3  \n",
    "2  5  8  \n",
    "3  8 10  \n",
    "\n",
    "Matrix is symmetrical \n",
    " \n",
    "Input a 3x3 matrix: \n",
    "\n",
    "1  5  3\n",
    "2  5  8\n",
    "3  8 10\n",
    "\n",
    "Matrix is not symmetrical\n",
    "~~~\n",
    "\n",
    "    "
   ]
  },
  {
   "cell_type": "code",
   "execution_count": 30,
   "metadata": {},
   "outputs": [
    {
     "name": "stdout",
     "output_type": "stream",
     "text": [
      "Matrix is not symmetrical\n"
     ]
    }
   ],
   "source": [
    "N = 3\n",
    "# m = eval(input('Input a {} x {} matrix: '.format(N,N)))\n",
    "\n",
    "m = [[1,2,3],[4,5,6],[7,8,9]]\n",
    "\n",
    "sym = True\n",
    "for i in range(N):\n",
    "    for j in range(N):\n",
    "        if m[i][j] != m[j][i]:\n",
    "            sym = False\n",
    "\n",
    "if sym:\n",
    "    print('Matrix is symmetrical')\n",
    "else:\n",
    "    print('Matrix is not symmetrical')\n",
    "            \n"
   ]
  },
  {
   "cell_type": "markdown",
   "metadata": {},
   "source": [
    "### P4_19.  \n",
    "Write a program that reads **N** positive numbers integers into a list **v**. The program will build a matrix  **m** (**N**x**N**)  \n",
    "Note: Values in **v** should be less than **N**.  \n",
    "Example:  \n",
    "~~~\n",
    "\tInput 5 numbers less or equal than 5: 1  4  5  2  2  \n",
    "    \n",
    "\tYour matrix is:  \n",
    "    \n",
    "\t1  4  5  2  2\n",
    "\t0  4  5  2  2\n",
    "\t0  4  5  2  0\n",
    "\t0  4  5  0  0\n",
    "    0  0  5  0  0\n",
    "~~~\n",
    "   "
   ]
  },
  {
   "cell_type": "code",
   "execution_count": 37,
   "metadata": {},
   "outputs": [
    {
     "name": "stdout",
     "output_type": "stream",
     "text": [
      "How many numbers do you want to work with? 5\n",
      "Input 5 positive integers: 1 2 3 4 5\n",
      "1   2   3   4   5   \n",
      "\n",
      "1   2   3   4   0   \n",
      "\n",
      "0   2   3   4   0   \n",
      "\n",
      "0   2   3   0   0   \n",
      "\n",
      "0   0   3   0   0   \n",
      "\n"
     ]
    }
   ],
   "source": [
    "N = eval(input(\"How many numbers do you want to work with? \"))\n",
    "\n",
    "seq = input('Input {} positive integers: '.format(N))\n",
    "\n",
    "v = [eval(i) for i in seq.split()[:N]]\n",
    "\n",
    "a = 0\n",
    "b = N\n",
    "\n",
    "for i in range(N):\n",
    "    if i % 2 == 0 and i > 0:\n",
    "        a +=1\n",
    "    else:\n",
    "        b -=1\n",
    "    for j in range(N):\n",
    "\n",
    "        \n",
    "        #print((i,j,a,b))\n",
    "        \n",
    "        if j < a or j > b:\n",
    "            print('0', end = '   ')\n",
    "        else:\n",
    "            print(v[j], end= '   ')\n",
    "                    \n",
    "    print('\\n')"
   ]
  },
  {
   "cell_type": "code",
   "execution_count": null,
   "metadata": {},
   "outputs": [],
   "source": []
  },
  {
   "cell_type": "markdown",
   "metadata": {},
   "source": [
    "### P4_20.  \n",
    "Input two 4x4 character matrices **m1** y **m2**. The program will compare both matrix and will create two lists with the common elements:  \n",
    "-. In a list **d** if common character is between ‘a’ and ‘m’ \n",
    "-. In a list **f** if common character is between ‘n’ and ‘z’.   \n",
    "Ejemplo: \n",
    "\n",
    "~~~\n",
    "Input your first matrix: \n",
    "\n",
    "b r t u  \n",
    "s a v h  \n",
    "l g h o  \n",
    "c r c s  \n",
    "\n",
    "Input your second matrix:   \n",
    "\n",
    "u r b u  \n",
    "o a e i  \n",
    "l f d o  \n",
    "o r c i  \n",
    "\n",
    "List d is: a l c  \n",
    "List f is: r u o r\n",
    "\n",
    "~~~\n"
   ]
  },
  {
   "cell_type": "code",
   "execution_count": null,
   "metadata": {},
   "outputs": [],
   "source": [
    "m = 4 #input(“Number of rows?” )\n",
    "n = 4 #input(“Number of columns?” )\n",
    "m1 = [[None for _ in range(n)] for _ in range(m)]\n",
    "for i in range(m):\n",
    "    for j in range(n):\n",
    "        m1[i][j] = input('Element ({},{}) = '.format(i+1,j+1))\n",
    "        \n",
    "\n",
    "#m2 = [[None] * n] * m\n",
    "m2 = [[None for _ in range(n)] for _ in range(m)]\n",
    "for i in range(m):\n",
    "    for j in range(n):\n",
    "        m2[i][j] = input('Element ({},{}) = '.format(i+1,j+1))        \n",
    "        "
   ]
  },
  {
   "cell_type": "code",
   "execution_count": 4,
   "metadata": {},
   "outputs": [
    {
     "name": "stdout",
     "output_type": "stream",
     "text": [
      "[['a', 's', 'd', 'e'], ['g', 'h', 'k', 'l'], ['m', 'b', 'd', 's'], ['a', 'a', 'e', 'r']]\n",
      "[['u', 'k', 'l', 'p'], ['ñ', 'm', 'n', 'b'], ['h', 'x', 'a', 's'], ['d', 'e', 'n', 'j']]\n"
     ]
    }
   ],
   "source": [
    "print(m1)\n",
    "print(m2)\n",
    "\n",
    "\n"
   ]
  },
  {
   "cell_type": "code",
   "execution_count": 5,
   "metadata": {},
   "outputs": [],
   "source": [
    "s1 = set()\n",
    "for row in m1:\n",
    "    for el in row:\n",
    "        s1.add(el)\n",
    "    \n",
    "s2 = set()\n",
    "for row in m2:\n",
    "    for el in row:\n",
    "        s2.add(el)    "
   ]
  },
  {
   "cell_type": "code",
   "execution_count": 12,
   "metadata": {},
   "outputs": [
    {
     "name": "stdout",
     "output_type": "stream",
     "text": [
      "['a', 'b', 'd', 'e', 'h', 'k', 'l', 'm']\n",
      "['s']\n"
     ]
    }
   ],
   "source": [
    "d = [el for el in s1 & s2 if el <= 'm']\n",
    "f = [el for el in s1 & s2 if el > 'm']\n",
    "\n",
    "print(sorted(d))\n",
    "\n",
    "print(sorted(f))\n"
   ]
  },
  {
   "cell_type": "markdown",
   "metadata": {},
   "source": [
    "### P4_21.   \n",
    "Write a program that reads a matrix **m** (**N**x**N**). A position **i**,**j** is a star if the sum of the element **m[i,j]** and its 4 neighbours is greater than 30. The program will tell us the position of those stars.\n",
    "Note: There are no stars in the matrix borders  \n",
    "Example:   \n",
    "~~~\n",
    "Input a 6x6 matrix:  \n",
    "\n",
    "1   3  10   2   1   2  \n",
    "0   3   5   3   8   2  \n",
    "3   4  10   2   3   2  \n",
    "1   2   2   1   6   2  \n",
    "3   7   1   8   8   3  \n",
    "1   2   5   2   7   5   \n",
    "\n",
    "Your stars are at positions:  \n",
    "\n",
    "(1,2)  \n",
    "(4,4)\n",
    "\n",
    "\n",
    "~~~\n"
   ]
  },
  {
   "cell_type": "code",
   "execution_count": 14,
   "metadata": {},
   "outputs": [
    {
     "name": "stdout",
     "output_type": "stream",
     "text": [
      "[(1, 2), (4, 4)]\n"
     ]
    }
   ],
   "source": [
    "# Your code here\n",
    "n = 6\n",
    "m = [[1, 3, 10, 2, 1, 2], [0, 3, 5, 3, 8, 2], [3, 4, 10, 2, 3, 2],\n",
    "     [1, 2, 2, 1, 6, 2], [3, 7, 1, 8, 8, 3], [1, 2, 5, 2, 7, 5]]\n",
    "\n",
    "stars = []\n",
    "for i in range(1,n-1):\n",
    "    for j in range(1,n-1):\n",
    "        if (m[i][j] + m[i-1][j] + m[i+1][j]+m[i][j+1]+m[i][j-1]) > 30:\n",
    "            stars.append((i,j))\n",
    "\n",
    "print(stars)\n",
    "            "
   ]
  },
  {
   "cell_type": "markdown",
   "metadata": {},
   "source": [
    "### P4_22.  \n",
    "Input a word of N characters.The program will ask for a number num (num<=N) and generate an output like the one in the example. \n",
    "Example: \n",
    "~~~\n",
    "Input a word of 7 characters: ARTICLE\n",
    "Input a number less or equal than 7: 5\n",
    "\n",
    "A               C\n",
    "A           I   C\n",
    "A       T       C\n",
    "A   R           C\n",
    "A               C\n",
    "\t\n",
    "\n",
    "~~~\n"
   ]
  },
  {
   "cell_type": "code",
   "execution_count": 28,
   "metadata": {},
   "outputs": [
    {
     "name": "stdout",
     "output_type": "stream",
     "text": [
      "Length of word? 7\n",
      "Input your string of 7 characters: banana\n",
      "Number of rows? (<7)5\n",
      "B               N   \n",
      "\n",
      "B           A   N   \n",
      "\n",
      "B       N       N   \n",
      "\n",
      "B   A           N   \n",
      "\n",
      "B               N   \n",
      "\n"
     ]
    }
   ],
   "source": [
    "N = eval(input(\"Length of word? \" ))\n",
    "seq = input('Input your string of {} characters: '.format(N))\n",
    "n = eval(input(\"Number of rows? (<{})\".format(N) ))\n",
    "\n",
    "seq = seq[:n].upper()\n",
    "          \n",
    "for i in range(n):\n",
    "    for j in range(n):\n",
    "        if j == 0 or j == n-1 or i+j+1==n:\n",
    "            print(seq[j], end = '   ')\n",
    "        else:\n",
    "            print(' ', end= '   ')\n",
    "    print('\\n')\n",
    "\n",
    "\n"
   ]
  },
  {
   "cell_type": "markdown",
   "metadata": {},
   "source": [
    "### P4_23.  \n",
    "Input a word of **N** characters.The program will ask for a number **num** (**num**<=**N**) and generate an output like the one in the example.  \n",
    "Example: \n",
    "~~~\n",
    "Input a word of 6 characters: PARROT  \n",
    "\n",
    "Introduce un número menor o igual que 6: 4  \n",
    "\n",
    "            P\t\t\n",
    "            A\t\t\n",
    "            R\t\t\n",
    "P   A   R   R   O   T\n",
    "            O\t\t\n",
    "            T\t\t\n",
    "~~~\t\t\n",
    "\n"
   ]
  },
  {
   "cell_type": "code",
   "execution_count": 30,
   "metadata": {},
   "outputs": [
    {
     "name": "stdout",
     "output_type": "stream",
     "text": [
      "Length of word? 6\n",
      "Input your string of 6 characters: banana\n",
      "Input a number <64\n",
      "            B           \n",
      "\n",
      "            A           \n",
      "\n",
      "            N           \n",
      "\n",
      "B   A   N   A   N   A   \n",
      "\n",
      "            N           \n",
      "\n",
      "            A           \n",
      "\n"
     ]
    }
   ],
   "source": [
    "N = eval(input(\"Length of word? \" ))\n",
    "seq = input('Input your string of {} characters: '.format(N)).upper()\n",
    "num = eval(input(\"Input a number <{}\".format(N) ))\n",
    "\n",
    "for i in range(N):\n",
    "    for j in range(N):\n",
    "        if j == num -1:\n",
    "            print(seq[i], end = '   ')\n",
    "        elif i == num-1:\n",
    "            print(seq[j], end = '   ')\n",
    "        else:\n",
    "            print(' ', end= '   ')\n",
    "        \n",
    "    print('\\n')\n",
    "    \n"
   ]
  }
 ],
 "metadata": {
  "kernelspec": {
   "display_name": "Python 3",
   "language": "python",
   "name": "python3"
  },
  "language_info": {
   "codemirror_mode": {
    "name": "ipython",
    "version": 3
   },
   "file_extension": ".py",
   "mimetype": "text/x-python",
   "name": "python",
   "nbconvert_exporter": "python",
   "pygments_lexer": "ipython3",
   "version": "3.6.6"
  }
 },
 "nbformat": 4,
 "nbformat_minor": 2
}
