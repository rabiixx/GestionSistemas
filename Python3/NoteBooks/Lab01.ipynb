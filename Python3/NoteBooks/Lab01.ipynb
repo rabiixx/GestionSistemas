{
 "cells": [
  {
   "cell_type": "markdown",
   "metadata": {},
   "source": [
    "# Lab 01. Python 3.6 Environment"
   ]
  },
  {
   "cell_type": "markdown",
   "metadata": {},
   "source": [
    "For the programming Labs we will use **Notebook** & **Python3.6** already installed in the lab rooms. we will download the  **ipynb** file and after completed, we will upload it following the instructions."
   ]
  },
  {
   "cell_type": "markdown",
   "metadata": {},
   "source": [
    "## First program"
   ]
  },
  {
   "cell_type": "markdown",
   "metadata": {},
   "source": [
    "Let's start with our first Python program. Run the program (**>|**, **Run cells** from Cell menu, **Ctrl + Enter** using the keyboard shortcut)"
   ]
  },
  {
   "cell_type": "code",
   "execution_count": 6,
   "metadata": {},
   "outputs": [
    {
     "ename": "SyntaxError",
     "evalue": "EOL while scanning string literal (<ipython-input-6-3bc7a6d9f44c>, line 1)",
     "output_type": "error",
     "traceback": [
      "\u001b[1;36m  File \u001b[1;32m\"<ipython-input-6-3bc7a6d9f44c>\"\u001b[1;36m, line \u001b[1;32m1\u001b[0m\n\u001b[1;33m    print ('Hello Word)\u001b[0m\n\u001b[1;37m                       ^\u001b[0m\n\u001b[1;31mSyntaxError\u001b[0m\u001b[1;31m:\u001b[0m EOL while scanning string literal\n"
     ]
    }
   ],
   "source": [
    "print ('Hello Word)"
   ]
  },
  {
   "cell_type": "markdown",
   "metadata": {},
   "source": [
    "As you see there is a syntax error....please correct it and run it again..."
   ]
  },
  {
   "cell_type": "markdown",
   "metadata": {},
   "source": [
    "## Exercices"
   ]
  },
  {
   "cell_type": "markdown",
   "metadata": {},
   "source": [
    "let's make some exercices to know more Python....\n",
    "Runt the next program, When you will ne asked introduce a number and press **Enter**"
   ]
  },
  {
   "cell_type": "code",
   "execution_count": null,
   "metadata": {
    "collapsed": true
   },
   "outputs": [],
   "source": [
    "#This program asks for a number and prints it on the screen\n",
    "\n",
    "n = input ('Give a number:')\n",
    "print ('The number is',n)"
   ]
  },
  {
   "cell_type": "markdown",
   "metadata": {},
   "source": [
    "This is the easiest and simplest way to ask for data and to print it on the screen.   \n",
    "\n",
    "### P1_01. \n",
    "Try to make a programa with 2 variables working like that:\n",
    "~~~\n",
    " Please introduce a number: 4  \n",
    " Please introduce another number: 5   \n",
    " Numbers are 4 & 5  \n",
    "~~~"
   ]
  },
  {
   "cell_type": "code",
   "execution_count": null,
   "metadata": {
    "collapsed": true
   },
   "outputs": [],
   "source": [
    "# Write here your program\n"
   ]
  },
  {
   "cell_type": "markdown",
   "metadata": {},
   "source": [
    "### P1_02.\n",
    "Write a program that reads 2 characters introduced by the user using the keyboard and writes them in the same line\n",
    "Example:\n",
    "~~~\n",
    "Please introduce a character: a \n",
    "Please introduce another character: z\n",
    "The characters are a & z\n",
    "~~~\n"
   ]
  },
  {
   "cell_type": "code",
   "execution_count": null,
   "metadata": {
    "collapsed": true
   },
   "outputs": [],
   "source": [
    "# Write here your program\n"
   ]
  },
  {
   "cell_type": "markdown",
   "metadata": {},
   "source": [
    "let's use some aithmetic ops\n",
    "\n",
    "Run the program below that should work like that: \n",
    "~~~\n",
    " Please introduce a number: 4  \n",
    " Please introduce another number: 5  \n",
    " The sum of the two numbers is 9  \n",
    "~~~"
   ]
  },
  {
   "cell_type": "code",
   "execution_count": 3,
   "metadata": {},
   "outputs": [
    {
     "name": "stdout",
     "output_type": "stream",
     "text": [
      "Please introduce a number:4\n",
      "Please introduce another number:5\n",
      "The sum of the two numbers is 45\n"
     ]
    }
   ],
   "source": [
    "# Adds 2 numbers\n",
    "\n",
    "n = input ('Please introduce a number:')\n",
    "m = input ('Please introduce another number:')\n",
    "print ('The sum of the two numbers is',n + m)"
   ]
  },
  {
   "cell_type": "markdown",
   "metadata": {},
   "source": [
    "ufff the answer is 45...not 9. What happen?  \n",
    "The instruction *input* stores what we introduce as **text**.  \n",
    "we need to say that we want numbers using conversión/cast to int (**int**) or to real/float (**float**).   \n",
    "We have two ways to do it \n",
    "Directly: \n",
    "~~~\n",
    "n = int(input('Please introduce a number:'))\n",
    "~~~\n",
    "or in 2 steps:  \n",
    "~~~\n",
    "n = input ('Please introduce a number:')    \n",
    "n = int (n)\n",
    "~~~\n",
    "### P1_03.\n",
    "Modify your program to work and write it below."
   ]
  },
  {
   "cell_type": "code",
   "execution_count": null,
   "metadata": {
    "collapsed": true
   },
   "outputs": [],
   "source": [
    "# Write here your program\n"
   ]
  },
  {
   "cell_type": "markdown",
   "metadata": {},
   "source": [
    "### P1_04.\n",
    "Write a program that reads your age (or your age at the end of the year) and prints the year you were born. \n",
    "Please, use only one variable to store your age, no variables used for the year.  \n",
    "Example:\n",
    "~~~\n",
    "\tPlease give your age: 18 \n",
    "\tYou were born in 2000\n",
    "~~~\n"
   ]
  },
  {
   "cell_type": "code",
   "execution_count": null,
   "metadata": {
    "collapsed": true
   },
   "outputs": [],
   "source": [
    "# Write here your program\n"
   ]
  },
  {
   "cell_type": "markdown",
   "metadata": {},
   "source": [
    "### P1_05.  \n",
    "Write a program that reads 2 numbers, and prints on the screen the sum, difference and multiplication. Please create a variable to store every operation.\n",
    " \n",
    "Example:\n",
    "~~~\n",
    "Please introduce a number: 10  \n",
    "Please introduce another number: 5.4  \n",
    "Sum is 15.4, difference is 4.6 and multiplication is 54.0  \n",
    "~~~\n",
    "Ofcourse 5.4 is a real number (float)."
   ]
  },
  {
   "cell_type": "code",
   "execution_count": null,
   "metadata": {
    "collapsed": true
   },
   "outputs": [],
   "source": [
    "# Write here your program\n"
   ]
  },
  {
   "cell_type": "markdown",
   "metadata": {},
   "source": [
    "### P1_06.\n",
    "Write a program that reads 2 numbers, and prints on the screen the integer division and the real division of both. \n",
    "You need to use the following operators   **/**  (real division)   y   **//**  (integer division).  \n",
    "Example:  \n",
    "~~~\n",
    "\tPlease introduce a number: 10\n",
    "\tPlease introduce another number: 3\n",
    "\tThe integer division is  3 the real division is 3.3333333333333335\n",
    "~~~\n"
   ]
  },
  {
   "cell_type": "code",
   "execution_count": null,
   "metadata": {
    "collapsed": true
   },
   "outputs": [],
   "source": [
    "# Write here your program\n"
   ]
  },
  {
   "cell_type": "raw",
   "metadata": {},
   "source": [
    "If we want to control position and number of decimals we may use  **print** with the **format** option\n",
    "Run the next program and look how it works\n"
   ]
  },
  {
   "cell_type": "code",
   "execution_count": 5,
   "metadata": {},
   "outputs": [
    {
     "name": "stdout",
     "output_type": "stream",
     "text": [
      "Division of 10 between 3 with 2 decimals: 3.33\n",
      "Division of 10 between 3 with 4 decimals in 10 spaces :     3.3333\n",
      "Division of     10 v            3 without decimals: 3\n"
     ]
    }
   ],
   "source": [
    "#Writes numbers in different formats\n",
    "\n",
    "print('Division of {} between {} with 2 decimals: {:.2f}'.format(10 ,3, 10 / 3) )\n",
    "print('Division of {} between {} with 4 decimals in 10 spaces : {:10.4f}'.format(10 ,3, 10 / 3) )\n",
    "print('Division of {:6} v {:12} without decimals: {:.0f}'.format(10 ,3, 10 / 3) )\n",
    "\n"
   ]
  },
  {
   "cell_type": "markdown",
   "metadata": {},
   "source": [
    "### P1_07.\n",
    "Modify the program in **P1_06** to have a solution with 3 decimals"
   ]
  },
  {
   "cell_type": "code",
   "execution_count": null,
   "metadata": {
    "collapsed": true
   },
   "outputs": [],
   "source": [
    "#Write here your program\n"
   ]
  },
  {
   "cell_type": "raw",
   "metadata": {},
   "source": [
    "### P1_08\n",
    "You have to correct the errors in the next program and to test it with the following two cases: \n",
    "\n",
    "1. 50 cents coins: 4, 20 cents coins: 7 and 10 cents coins: 5  \n",
    "The result has to be:\n",
    "~~~\n",
    "    I have 390 cents\n",
    "    I have 3.9 Euros\n",
    "~~~\n",
    "\n",
    "2. 50 cents coins: 1 20 cents coins: 2 and 10 cents coins: tres (text) "
   ]
  },
  {
   "cell_type": "code",
   "execution_count": null,
   "metadata": {
    "collapsed": true
   },
   "outputs": [],
   "source": [
    "# Program that computes the money we have in cents and in euros\n",
    "\n",
    "v_50 = 50\n",
    "20_cts = 20\n",
    "v_10 = 10\n",
    "m50 = input('How many 50cts. coins? ')\n",
    "m20 = input('How many 20cts. coins? ')\n",
    "m10 = input('How many 10cts. coins? ')\n",
    "money = m50 * v_50 + m20 * 20cts + m10 * v_10\n",
    "print ('I have {} cents'.format(money))\n",
    "euros = cents / 100\n",
    "print ('I have {} Euros'.format(euros))\n",
    "\n",
    "#Explain in following lines why the second case is not working\n",
    "# \n",
    "# \n",
    "# \n"
   ]
  },
  {
   "cell_type": "markdown",
   "metadata": {},
   "source": [
    "### P1_09.\n",
    "Design a program that asks for an amount of money in Euros and prints on the screen the value in dollars (Exchange rate 1€=1.11$)"
   ]
  },
  {
   "cell_type": "code",
   "execution_count": null,
   "metadata": {
    "collapsed": true
   },
   "outputs": [],
   "source": [
    "# Write here your program\n"
   ]
  },
  {
   "cell_type": "markdown",
   "metadata": {},
   "source": [
    "### P1_10.\n",
    "Compute the volume of a cylinder with Radius and height given thru the keyboard by the user."
   ]
  },
  {
   "cell_type": "code",
   "execution_count": null,
   "metadata": {
    "collapsed": true
   },
   "outputs": [],
   "source": [
    "# Write here your program\n"
   ]
  }
 ],
 "metadata": {
  "kernelspec": {
   "display_name": "Python 3",
   "language": "python",
   "name": "python3"
  },
  "language_info": {
   "codemirror_mode": {
    "name": "ipython",
    "version": 3
   },
   "file_extension": ".py",
   "mimetype": "text/x-python",
   "name": "python",
   "nbconvert_exporter": "python",
   "pygments_lexer": "ipython3",
   "version": "3.6.5"
  }
 },
 "nbformat": 4,
 "nbformat_minor": 2
}
