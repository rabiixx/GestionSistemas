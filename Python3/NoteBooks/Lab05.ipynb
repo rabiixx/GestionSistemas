{
 "cells": [
  {
   "cell_type": "markdown",
   "metadata": {},
   "source": [
    "# Lab 05. Functions."
   ]
  },
  {
   "cell_type": "markdown",
   "metadata": {},
   "source": [
    "# Exercices index\n",
    "\n",
    "[P5_01. Arithmetic Ops](#P5_01.)  \n",
    "[P5_02. Crossing Words](#P5_02.)  \n",
    "[P5_03. Figure](#P5_03.)   \n",
    "[P5_04. Lists multiplying](#P5_04.)   \n",
    "[P5_05. Creating ROMA matrix](#P5_05.)   \n",
    "[P5_06. Build an integer matrix](#P5_06.)   \n",
    "[P5_07. Students assignments](#P5_07.)   \n",
    "[P5_08. Matches. Sum. Difference](#P5_08.)   \n",
    "[P5_09. Differents](#P5_09.)   \n",
    "[P5_10. Square](#P5_10.)   \n",
    "[P5_11. L inverted](#P5_11.)   \n",
    "[P5_12. Cross](#P5_12.)   \n",
    "[P5_13. Absolute value difference](#P5_13.)   \n",
    "[P5_14. Square Sum](#P5_14.)   \n",
    "[P5_15. Combining letters](#P5_15.) \n",
    "  "
   ]
  },
  {
   "cell_type": "markdown",
   "metadata": {},
   "source": [
    "### P5_01.  \n",
    "Write a function called **Ops** that takes 2 integer numbers **n1** and **n2** and displays on the screen the sum, the difference and the multiplication. The numbers have to be read in the main program, as well as the function call (the results are displayed within the function).\n",
    "Example:  \n",
    "~~~\n",
    "Write the first number: 3  \n",
    "Write the second number: 5   \n",
    "Sum is 8, difference is -2 and the product is 15  \n",
    "~~~\n"
   ]
  },
  {
   "cell_type": "code",
   "execution_count": null,
   "metadata": {},
   "outputs": [],
   "source": [
    "# Your code here\n"
   ]
  },
  {
   "cell_type": "markdown",
   "metadata": {},
   "source": [
    "### P5_02.  \n",
    "Write a function called **draw_cross** that takes as parameters one string and one integer and draws patterns like the ones shown below in the example. In the main program you have to ask the user for the word in a string **t** and for one integer **num** (**num**<=len(**t**)) and send them as parameters to the **draw_cross** function.\n",
    "Example:  \n",
    "~~~\n",
    "Write a word: ZAPATO                      Write a word: ZAPATO\n",
    "Write a number: 4                         Write a number: 2  \n",
    "\n",
    "            Z                                   Z  \n",
    "            A                               Z   A   P   A   T   O  \n",
    "            P                                   P  \n",
    "Z   A   P   A   T   O                           A  \n",
    "            T                                   T  \n",
    "            O                                   O  \n",
    "\n",
    "~~~\n"
   ]
  },
  {
   "cell_type": "code",
   "execution_count": null,
   "metadata": {},
   "outputs": [],
   "source": [
    "# Your code here\n"
   ]
  },
  {
   "cell_type": "markdown",
   "metadata": {},
   "source": [
    "### P5_03.  \n",
    "Write a function called **figure** that receives as input parameters one integer **n** and two characters **f** and **p**. The **f** character will have a 't' value if the figure has to be a triangle and a 'c' if it is an square. The **p** character is the character used for the drawing. Write now the main program which asks for the input data and calls the function that will draw figures like the ones below.\n",
    "\n",
    "Example:  \n",
    "~~~\n",
    "Write a number: 3                      Write a number: 4  \n",
    "Write a character (t/c): t             Write a character (t/c): c  \n",
    "Write aother character: m              Write another character: a  \n",
    "\n",
    "m                                         a a a a\n",
    "m m                                       a a a a\n",
    "m m m                                     a a a a \n",
    "                                          a a a a \n",
    "\n",
    "~~~\n"
   ]
  },
  {
   "cell_type": "code",
   "execution_count": null,
   "metadata": {},
   "outputs": [],
   "source": [
    "# Your code here\n"
   ]
  },
  {
   "cell_type": "markdown",
   "metadata": {},
   "source": [
    "### P5_04.  \n",
    "Write a program that stores numbers in 2 lists **a** and **b** of size **N** (**N** known constant) and gives back another **c** list which is the product of **a** and **b**, element by element. For that we have to design a function called **read_list** for reading one vector; we use this function to read **a** and **b** in two consecutive calls. We will implement as well a function **build** to obtain **c** from **a** and **b**; finally we need a last function **writes_list** to display on the screen **a**, **b* and **c** in 3 consecutive calls.\n",
    "  \n",
    "Example: (for **N**=6)  \n",
    "~~~\n",
    "Write 6 numbers: 2   2   6   3  11   5  \n",
    "Write another 6 numbers: 1   7   8  16   4   6   \n",
    "The list a is: 2   2   6   3  11   5  \n",
    "The list b is: 1   7   8  16   4   6  \n",
    "The list c is: 2  14  48  48  44  30\n",
    "~~~\n"
   ]
  },
  {
   "cell_type": "code",
   "execution_count": null,
   "metadata": {},
   "outputs": [],
   "source": [
    "# Your code here\n"
   ]
  },
  {
   "cell_type": "markdown",
   "metadata": {},
   "source": [
    "### P5_05.  \n",
    "Write a function that takes as input parameters one string (Uppercase) and one integer's list of lenght **n** (you can use **len()** with the input string to compute **n** ). The integers in the list have to be smaller or equal to **n**. The functions returns to the main program a matrix (**n** x **n**) where the letters of the string are distributed as shown in the example.\n",
    "Example:  \n",
    "~~~\n",
    "Write a word: ROMA  \n",
    "Write 4 numbers between 1 and 4: 4 2 1 3  \n",
    "The matrix is:  \n",
    "\n",
    "\tR\n",
    "\tR           A\n",
    "\tR   O       A\n",
    "\tR   O   M   A\n",
    "\n",
    "~~~\n"
   ]
  },
  {
   "cell_type": "code",
   "execution_count": null,
   "metadata": {},
   "outputs": [],
   "source": [
    "# Your code here\n"
   ]
  },
  {
   "cell_type": "markdown",
   "metadata": {},
   "source": [
    "### P5_06.  \n",
    "Write a function called **build_matrix** that creates a matrix **m**(**N**x**N**) from a list **t** of **N** integers smaller or equal to **N** (**N** known constant). The matrix has to be built following these rules: the **i**th column will contain the decreasing sequence that starts with the value of **t[i]**. You will have to design as well a function **read_list** (you may reuse the one of P5_04 exercice) to read **t** and another function called **write_matrix** to display the matrix on the screen.\n",
    "\n",
    "Example: (for N=7)  \n",
    "~~~\n",
    "Input list elements: 4  3  1  7  2  3  0\n",
    "The matrix m is:  \n",
    "\n",
    "\t4  3  1  7  2  3  0\n",
    "\t3  2  0  6  1  2  0\n",
    "\t2  1  0  5  0  1  0\n",
    "\t1  0  0  4  0  0  0\n",
    "\t0  0  0  3  0  0  0\n",
    "\t0  0  0  2  0  0  0\n",
    "\t0  0  0  1  0  0  0\n",
    "~~~\n"
   ]
  },
  {
   "cell_type": "code",
   "execution_count": null,
   "metadata": {},
   "outputs": [],
   "source": [
    "# Your code here\n"
   ]
  },
  {
   "cell_type": "markdown",
   "metadata": {},
   "source": [
    "### P5_07.  \n",
    "Write a program that reads a character that represents the first letter of the last name of one student. Then you have to write a function **asign_class** that returns the class number assigned to any student. The classes assignment rules are:  \n",
    "\n",
    "\tFrom A to F: Class 1  \n",
    "\tFrom G to J: Class 2  \n",
    "\tFrom K to Ñ: Class 3  \n",
    "\tfrom O to Z: Class 4   \n",
    "    \n",
    "Note: if the input character is not a letter, the program has to ask another one, until the character is a letter.  \n",
    "Example:  \n",
    "~~~\n",
    "Write the first letter of your surname: M\n",
    "Assigned class 3\n",
    "\n",
    "Write the first latter of your surname: &\n",
    "Not a valid character. Write the first letter of your surname: %\n",
    "Not a valid character. Write the first letter of your surname: c\n",
    "Assigned class 1\n",
    "~~~\n"
   ]
  },
  {
   "cell_type": "code",
   "execution_count": null,
   "metadata": {},
   "outputs": [],
   "source": [
    "# Your code here\n"
   ]
  },
  {
   "cell_type": "markdown",
   "metadata": {},
   "source": [
    "### P5_08.  \n",
    "Write 3 functions that take as input parameters 2 lists of **N** integers, **a** and **b**. They have to return respectively:\n",
    "\n",
    "I. The position of the first element that matches in both lists (-1 if not match is made)\n",
    "\n",
    "II. The value of the sum obtained as follows: we add 1 if the value of **a** is bigger than the corresponding value in **b**, we substract 1 in the contrary case, and we do not add anything if both values are equal.\n",
    "\n",
    "III.- The Max difference between a value in **a** and another in **b**, no matter in with position both are.\n",
    "\n",
    "You have also to write (or reuse) another function to read a vector.\n",
    "\n",
    "Example: (for **N**=6)  \n",
    "~~~\n",
    "Input first list: 3   5   6   2  -8   9  \n",
    "Input second list: 6   5  -2   2 -11   8  \n",
    "\n",
    "First macthing elements in position: 1  \n",
    "The sum is: 2  \n",
    "The biggest diffference between elements of A and B is: 20  \n",
    "~~~\n",
    "Note: in the example, the result of the second function is 2 = -1 + 0 + 1 + 0 + 1 + 1 and 20 = 9 – (–11) for the third function\n"
   ]
  },
  {
   "cell_type": "code",
   "execution_count": 1,
   "metadata": {},
   "outputs": [],
   "source": [
    "# Your code here\n"
   ]
  },
  {
   "cell_type": "markdown",
   "metadata": {},
   "source": [
    "### P5_09.  \n",
    "Write a function called **differents** that takes as input parameter a matrix **3x3** with values 1,2 or 3 and returns **TRUE** when every value is only once in every raw and column. You will also need a function to read the matrix.\n",
    "\n",
    "Example:   \n",
    "~~~\n",
    "Write the 3x3 matrix:  \n",
    "\n",
    "1  2  3\n",
    "3  1  2\n",
    "2  3  1  \n",
    "\n",
    "The function returns True\n",
    "\n",
    "Write the 3x3 matrix:  \n",
    "\n",
    "1  2  2  \n",
    "3  1  2\n",
    "2  3  1  \n",
    "\n",
    "The function returns False\n",
    "~~~\n"
   ]
  },
  {
   "cell_type": "code",
   "execution_count": null,
   "metadata": {},
   "outputs": [],
   "source": [
    "# Your code here\n"
   ]
  },
  {
   "cell_type": "markdown",
   "metadata": {},
   "source": [
    "### P5_10.  \n",
    "Write a function **square** that takes as parameter a list **t** of **N** (**N** known constant) integers and returns a square matrix **s** of size **M**x**M** like in the example (**M** known constant where **N**<=**M**x**M**). We need a function to display the matrix.\n",
    " \n",
    "Example: (for **N**=14, **M**=4)  \n",
    "~~~\n",
    "Write the list: 5  3  9  1  4  1  3  7  8  2  5  7  6  9   \n",
    "The matrix is:  \n",
    "\n",
    "\t5   3   9   1\n",
    "\t4   1   3   7\n",
    "\t8   2   5   7\n",
    "\t6   9   0   0\n",
    "~~~\n"
   ]
  },
  {
   "cell_type": "code",
   "execution_count": null,
   "metadata": {},
   "outputs": [],
   "source": [
    "# Your code here\n"
   ]
  },
  {
   "cell_type": "markdown",
   "metadata": {},
   "source": [
    "### P5_11.  \n",
    "Write a function **read_matrix** to read from the keyboard a matrix **m**(**N**x**N** with **N** known constant). Then implement a function called **add_values** that takes as input parameters **k, r < N** (read in the main program) and a matrix **m** and returns the sum of the values of the matrix that are in an inverted L, with the corner in the position **[k, r]**,as indicated in the drawing. Finally you have to write the main program that makes the call to the functions and gives the final result \n",
    "     \n",
    "Example: (for N=5)   \n",
    "~~~\n",
    "Write the 5x5 matrix:   \n",
    "\n",
    "\t3   4   1   5   6\n",
    "\t1   2   3   7   2\n",
    "\t6   2   9   4   1\n",
    "\t5   2   8   4   3\n",
    "    5   9   2   5   3  \n",
    "    \n",
    "Write a number for the Raw(k): 1\n",
    "Write a number for the Column(r): 3\n",
    "The result is: 26\n",
    "~~~\n",
    "Note: The SUM returns 26 as the result of adding 1 + 2 + 3 + 7 + 4 + 4 + 5 (7, the corner, is in position [1,3])\n",
    "\n",
    "   3   4   1   5   6   \n",
    "   **1   2   3   7**   2  \n",
    "   6   2   9   **4**   1  \n",
    "   5   2   8   **4**   3    \n",
    "   5   9   2   **5**   3 \n",
    "\n",
    "\n"
   ]
  },
  {
   "cell_type": "code",
   "execution_count": null,
   "metadata": {},
   "outputs": [],
   "source": [
    "# Your code here\n"
   ]
  },
  {
   "cell_type": "markdown",
   "metadata": {},
   "source": [
    "### P5_12.  \n",
    "Write a function called **cross** that takes as input parameters a matrix **m** of dimension **N**x**N** (**N** known constant) and a list **v** of **N** values between 0 and **N**-1. \n",
    "The function returns a new list of values computed as follows: the element **i** of the new list will be the result of summing all the elements of the column **v[i]** and substracting all the elements of the raw **v[i]**.\n",
    "\n",
    "The function has to return as well the total sum of all the elements of the matrix \n",
    "\n",
    "Example: (for **N**=3)   \n",
    "~~~\n",
    "Write the 3x3 matrix:  \n",
    "\n",
    "\t7   4   3\n",
    "\t2   9   1\n",
    "\t3   6   4  \n",
    "    \n",
    "Write the list: 2  0  1\n",
    "\n",
    "The new list is [-5, -2, 7] and the total sum is 39\n",
    "~~~\n",
    "Note: First element of the new list is the result of adding column 2: (3, 1, 4) and substracting raw 2: ( 3, 6, 4), giving -5 as result. We do similar thing for the other elements of the new list.\n",
    "\n",
    "\n"
   ]
  },
  {
   "cell_type": "code",
   "execution_count": null,
   "metadata": {},
   "outputs": [],
   "source": [
    "# Your code here\n"
   ]
  },
  {
   "cell_type": "markdown",
   "metadata": {},
   "source": [
    "### P5_13.  \n",
    "Implement a function **read_list** to read a list **v** of **N** integers, **N** known constant. Implement another function **operation** that takes 2 lists **a** and **b** (of **N** elements each) and one integer **k**; the function returns in a new list **c** the positions in lists **a** and **b** where the difference of values (in **ABS** value) between both elements is smaller or equal than **k**. Then you have to write a function **Writing** that shows the list on the screen. Finally you have to write a main program that uses the previous functions, to read 2 lists and one integer and to show the resulting list.\n",
    " \n",
    "Example (for **N**=6): \n",
    "~~~\n",
    "Write the 6 elements of list a: 3   6   7   2   8   4  \n",
    "Write the 6 elements of list b: 1   8   34   6   17  1  \n",
    "Write a number: 3  \n",
    "The resulting list is: 0   1   5  \n",
    "~~~\n",
    "operation returns  [0, 1, 5],  as the differences between values in positions 0, 1 y 5 of the lists A and B are smaller or equal than 3.\n",
    "\n",
    "\n"
   ]
  },
  {
   "cell_type": "code",
   "execution_count": null,
   "metadata": {},
   "outputs": [],
   "source": [
    "# Your code here\n"
   ]
  },
  {
   "cell_type": "markdown",
   "metadata": {},
   "source": [
    "### P5_14.  \n",
    "Implement the functions **sum_square_sup** and **sum_square_inf**. The first one takes as parameters the square matrix **m**(**N**x**N**), (**N** known constant) and one integer **sup**, and it returns the sum of all the values of the matrix that are in a raw and column smaller or equal to **sup**. The second one does a similar thing returning the sum of all the values of the matrix that are in a raw and column bigger or smaller than **inf**.\n",
    "We need as well a function **reading** that takes a matrix **m**(**N**x**N**) thru the keyboard. Finally you have to write a main program that uses all the previous functions, to read 1 matrix and 2 integers, and to return the difference in ABS value of the made sums.\n",
    "Example (for **N**=7): \n",
    "~~~\n",
    "Give a 7x7 matrix:  \n",
    "    \n",
    "   3    4    2    1    0    6    2\n",
    "   6    8    1    1    3    8    0\n",
    "   3    4    1    7    2    3    5\n",
    "   5    2    6    4    5    8    1\n",
    "   4    1    4    5    8    1    1\n",
    "   6    2    4    2    8    5    6\n",
    "   7    3    5    2    2    3    1  \n",
    "   \n",
    "Give the upper end (sup): 2\n",
    "Give the lower end (inf): 5\n",
    "The result is: 17\n",
    "   ~~~\n",
    "Calling **sum_square_sup**, we obtain 32 and calling **sum_square_inf** we obtain 15. So the difference in ABS value is 17.   \n",
    "\n",
    "   **3   4   2**   1   0   6   2  \n",
    "   **6\t8\t1**\t1      \t3\t8\t0  \n",
    "   **3\t4\t1**\t7\t2\t3\t5  \n",
    "     5\t2\t6\t4\t5\t8\t1      \n",
    "   4\t1\t4\t5\t8\t1\t1  \n",
    "   6\t2\t4\t2\t8\t**5\t 6**  \n",
    "   7\t3\t5\t2\t2\t**3\t 1**  \n",
    "\n",
    "\n"
   ]
  },
  {
   "cell_type": "code",
   "execution_count": null,
   "metadata": {},
   "outputs": [],
   "source": [
    "# Your code here\n",
    "m = [[3, 4, 2, 1, 0, 6, 2], [6, 8, 1, 1, 3, 8, 0], [3, 4, 1, 7, 2, 3, 5],\n",
    "     [5, 2, 6, 4, 5, 8, 1], [4, 1, 4, 5, 8, 1, 1], [6, 2, 4, 2, 8, 5, 6], \n",
    "     [7, 3, 5, 2, 2, 3, 1]]\n"
   ]
  },
  {
   "cell_type": "markdown",
   "metadata": {},
   "source": [
    "### P5_15.  \n",
    "Implement a function that takes 3 words and returns a boolean saying if the third word can be made combining letters from the other two. If the function receives **'LACA'**, **'REMO'** and **'MACERO'**, it returns TRUE; If the function receives **'LACA'**, **'REMO'** Y **'CAMELLO'**, it returns FALSE (as we need one **'L'** more).\n",
    "The main program reads a sentence and using the previous function should be able to say if any word (starting from the third one) can be made or not from the 2 previous ones.\n",
    "\n",
    "Example:  \n",
    "~~~\n",
    "Write the sentence:  Esta masa verde es claramente rala\n",
    "False\n",
    "True\n",
    "False\n",
    "True\n",
    "   ~~~\n",
    "'es' can be done combining letters from 'masa' and 'verde'.  \n",
    "'rala' can be done combining letters from 'es' and 'claramente'."
   ]
  },
  {
   "cell_type": "code",
   "execution_count": null,
   "metadata": {},
   "outputs": [],
   "source": [
    "# Your code here\n"
   ]
  }
 ],
 "metadata": {
  "kernelspec": {
   "display_name": "Python 3",
   "language": "python",
   "name": "python3"
  },
  "language_info": {
   "codemirror_mode": {
    "name": "ipython",
    "version": 3
   },
   "file_extension": ".py",
   "mimetype": "text/x-python",
   "name": "python",
   "nbconvert_exporter": "python",
   "pygments_lexer": "ipython3",
   "version": "3.6.5"
  }
 },
 "nbformat": 4,
 "nbformat_minor": 2
}
