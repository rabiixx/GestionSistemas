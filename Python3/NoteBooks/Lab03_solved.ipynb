{
 "cells": [
  {
   "cell_type": "markdown",
   "metadata": {},
   "source": [
    "# Lab 03. Loops"
   ]
  },
  {
   "cell_type": "markdown",
   "metadata": {},
   "source": [
    "### Remember, you have to use *while* and *for_in*."
   ]
  },
  {
   "cell_type": "markdown",
   "metadata": {},
   "source": [
    "# Exercices\n",
    "\n",
    "[P3_01. Counting even numbers](#P3_01.)  \n",
    "[P3_02. Counting \"a\" letters](#P3_02.)  \n",
    "[P3_03. Odds in even positions](#*P3_03.)  \n",
    "[P3_04. Smallest position](#P3_04.)  \n",
    "[P3_05. Prime number](#P3_05.)  \n",
    "[P3_06. Bigger than 10](#P3_06.)  \n",
    "[P3_07. Addition with characters](#P3_07.)  \n",
    "[P3_08. Range](#P3_08.)  \n",
    "[P3_09. Adding till 2000](#P3_09.)  \n",
    "[P3_10. Greatest Common Divisor](#*P3_10.)  \n",
    "[P3_11. Progression](#P3_11.)  \n",
    "[P3_12. Highest difference](#P3_12.)  \n",
    "[P3_13. Count 'a7'](#*P3_13.)   \n",
    "[P3_14. Prime factors](#*P3_14.)   \n",
    "[P3_15. Increasing order](#*P3_15.)   \n",
    "[P3_16. Numeric triangle](#P3_16.)     \n",
    "[P3_17. Numeric square](#*P3_17.)   \n",
    "[P3_18. Even after odd](#P3_18.)   \n",
    "[P3_19. Bigger than previous](#*P3_19.)  \n",
    "[P3_20. Positive and negative](#P3_20.)   "
   ]
  },
  {
   "cell_type": "markdown",
   "metadata": {},
   "source": [
    "### P3_01.  \n",
    "Write a program that reads a sequence of integers finished by 0 and returns the number of even numbers it contains (the last 0 not included)\n",
    "Example:\n",
    "\n",
    "~~~\n",
    "Introduce a number: 3\n",
    "Introduce a number: 6\n",
    "Introduce a number: 2\n",
    "Introduce a number: 0\n",
    "There are 2 even numbers\n",
    "~~~"
   ]
  },
  {
   "cell_type": "code",
   "execution_count": null,
   "metadata": {},
   "outputs": [],
   "source": [
    "# simplest solution, just looping\n",
    "\n",
    "a = eval(input('Introduce a number: '))\n",
    "c = 0\n",
    "while a != 0:\n",
    "    if a % 2 == 0:\n",
    "        c += 1\n",
    "    a = eval(input('Introduce a number: '))\n",
    "    \n",
    "print('There are {} even numbers'.format(c))  "
   ]
  },
  {
   "cell_type": "code",
   "execution_count": null,
   "metadata": {},
   "outputs": [],
   "source": [
    "# another solution, store only even numbers\n",
    "\n",
    "a = eval(input('Introduce a number: '))\n",
    "even = []\n",
    "while a != 0:\n",
    "    if a % 2 == 0:\n",
    "        even.append(a)\n",
    "    a = eval(input('Introduce a number: '))\n",
    "    \n",
    "print('There are {} even numbers: {}'.format(len(even), even))  "
   ]
  },
  {
   "cell_type": "code",
   "execution_count": null,
   "metadata": {
    "collapsed": true
   },
   "outputs": [],
   "source": [
    "# another solution, store everything, then count\n",
    "\n",
    "num_list = []\n",
    "a= eval(input('Introduce a number: '))\n",
    "while a !=0:    \n",
    "    num_list.append(a)\n",
    "    a= eval(input('Introduce a number: '))\n",
    "    \n",
    "c = 0\n",
    "for i in num_list:\n",
    "    if i % 2 == 0:\n",
    "        c +=1\n",
    "        \n",
    "    \n",
    "print('There are {} even numbers in you list'.format(c))  "
   ]
  },
  {
   "cell_type": "code",
   "execution_count": null,
   "metadata": {},
   "outputs": [],
   "source": [
    "# store everything, then extract even numbers\n",
    "\n",
    "a = eval(input('Introduce a number: '))\n",
    "seq = []\n",
    "while a != 0:\n",
    "    seq.append(a)\n",
    "    a = eval(input('Introduce a number: '))\n",
    "even = [i for i in seq if i % 2 == 0]    \n",
    "\n",
    "print('There are {} numbers in your sequence: {}'.format(len(seq), seq))     \n",
    "print('There are {} even numbers: {}'.format(len(even), even))  "
   ]
  },
  {
   "cell_type": "code",
   "execution_count": null,
   "metadata": {},
   "outputs": [],
   "source": [
    "# more compact\n",
    "\n",
    "num_list = eval(input('Introduce a list of numbers: '))\n",
    "even_list = [ i for i in num_list if i % 2 == 0]\n",
    "print('There are {} even numbers in you list'.format(len(even_list))) "
   ]
  },
  {
   "cell_type": "markdown",
   "metadata": {},
   "source": [
    "### P3_02.  \n",
    "Write a program that reads a sequence of integers finished by ‘.’  and returns the number of times the sequence has an “a”, either lower or upper case.\n",
    "Example:\n",
    "  \n",
    "~~~\n",
    "Introduce a character: r\n",
    "Introduce a character: A\n",
    "Introduce a character: t\n",
    "Introduce a character: a\n",
    "Introduce a character: s\n",
    "Introduce a character: .\n",
    "There  are 2  a letters\n",
    "~~~"
   ]
  },
  {
   "cell_type": "code",
   "execution_count": null,
   "metadata": {},
   "outputs": [],
   "source": [
    "# simplest solution, just count\n",
    "\n",
    "c = input('Introduce a character: ')\n",
    "num_a = 0 \n",
    "while c != '.':\n",
    "    if c == 'a' or c == 'A':\n",
    "        num_a += 1\n",
    "    c = input('Introduce a character: ')\n",
    "\n",
    "print('There are {} a letters in your sequence'.format(num_a)) "
   ]
  },
  {
   "cell_type": "code",
   "execution_count": null,
   "metadata": {
    "collapsed": true
   },
   "outputs": [],
   "source": [
    "# store everything, then count\n",
    "lista = []\n",
    "a= input('Introduce a character: ')\n",
    "while a !='.':    \n",
    "    lista.append(a)\n",
    "    a= input('Introduce a character: ')\n",
    "    \n",
    "c = 0\n",
    "for i in lista:\n",
    "    if i.upper() == 'A':        \n",
    "        c +=1\n",
    "        \n",
    "    \n",
    "print('I found {} As in your sequence'.format(c))   "
   ]
  },
  {
   "cell_type": "code",
   "execution_count": null,
   "metadata": {},
   "outputs": [],
   "source": [
    "# store everything, then use count()\n",
    "\n",
    "c = input('Introduce a character: ')\n",
    "\n",
    "seq = []\n",
    "while c != '.':\n",
    "    seq.append(c.lower())\n",
    "    c = input('Introduce a character: ')\n",
    "\n",
    "num_a = seq.count('a')\n",
    "print('There are {} a letters in your sequence'.format(num_a))  "
   ]
  },
  {
   "cell_type": "code",
   "execution_count": null,
   "metadata": {},
   "outputs": [],
   "source": [
    "#more compact\n",
    "\n",
    "frase = input('Introduce any sentence: ')\n",
    "print('I found {} As in your sequence'.format(frase.upper().count('A')))  "
   ]
  },
  {
   "cell_type": "markdown",
   "metadata": {},
   "source": [
    "### *P3_03.  \n",
    "Write a program that reads a sequence of integers finished by 0 and returns the number of odd numbers that are in an even position\n",
    "\n",
    "Example: \n",
    "~~~\n",
    "Introduce a number: 3\n",
    "Introduce a number: 5\n",
    "Introduce a number: 2\n",
    "Introduce a number: 1\n",
    "Introduce a number: 0\n",
    "There are 2 odds in even positions\n",
    "~~~\n",
    "Note: 3 is in position  0 and 1 in position 3"
   ]
  },
  {
   "cell_type": "code",
   "execution_count": null,
   "metadata": {},
   "outputs": [],
   "source": [
    "# simplest solution\n",
    "\n",
    "a = eval(input('Introduce a number: '))\n",
    "c = 0\n",
    "i = 0\n",
    "while a != 0:\n",
    "    i += 1\n",
    "    if a % 2 != 0 and i % 2 == 0:\n",
    "        c += 1\n",
    "    a = eval(input('Introduce a number: '))\n",
    "    \n",
    "print('There are {} odd numbers in even position'.format(c)) "
   ]
  },
  {
   "cell_type": "code",
   "execution_count": null,
   "metadata": {
    "collapsed": true
   },
   "outputs": [],
   "source": [
    "# store then check\n",
    "\n",
    "lista = []\n",
    "a= eval(input('Introduce un número: '))\n",
    "while a !=0:    \n",
    "    lista.append(a)\n",
    "    a= eval(input('Introduce un número: '))\n",
    "    \n",
    "c = 0\n",
    "for i in range(len(lista)):\n",
    "    num = lista[i]\n",
    "    if (i+1) % 2 == 0 and num % 2 !=0:\n",
    "        c +=1\n",
    "        \n",
    "    \n",
    "print('En tu lista hay {} números impares en posición par'.format(c)) "
   ]
  },
  {
   "cell_type": "markdown",
   "metadata": {},
   "source": [
    "### P3_04.  \n",
    "Write a program that asks the user for a number **num**. Then the program should ask for **num** integers. When the user finishes the program shows as result the smallest of all the numbers, and in which position it was introduced.\n",
    "Example:\n",
    "\n",
    "~~~\n",
    "Introduce how many numbers are you going to introduce: 4 \n",
    "Introduce a number: 3\n",
    "Introduce a number: 6\n",
    "Introduce a number: 2\n",
    "Introduce a number: 8\n",
    "Smallest is 2 and has been introduced in position 2\n",
    "~~~ "
   ]
  },
  {
   "cell_type": "code",
   "execution_count": null,
   "metadata": {},
   "outputs": [],
   "source": [
    "num = eval(input('Introduce how many numbers are you going to introduce: '))\n",
    "\n",
    "min_value = float('Inf')\n",
    "min_pos = 0\n",
    "\n",
    "for i in range(num):\n",
    "    a = eval(input('Introduce a number: '))\n",
    "    if a < min_value:\n",
    "        min_value = a\n",
    "        min_pos = i + 1\n",
    "    \n",
    "\n",
    "print('Smallest is {} and has been introduced in position {}'.format(min_value,min_pos))  "
   ]
  },
  {
   "cell_type": "code",
   "execution_count": null,
   "metadata": {
    "collapsed": true
   },
   "outputs": [],
   "source": [
    "lista = []\n",
    "longitud= eval(input('Introduce la longitud de tu lista: '))\n",
    "for i in range(longitud):    \n",
    "    a= eval(input('Introduce un número: '))\n",
    "    lista.append(a)\n",
    "    \n",
    "    \n",
    "c = 0\n",
    "max_valor = float('-Inf')\n",
    "min_valor = float('Inf')\n",
    "\n",
    "for i in range(len(lista)):\n",
    "    num = lista[i]\n",
    "    if num > max_valor:\n",
    "        max_valor = num\n",
    "        max_pos = i\n",
    "\n",
    "    if num < min_valor:\n",
    "        min_valor = num\n",
    "        min_pos = i\n",
    "\n",
    "print('El mayor es el {} y se ha introducido en la posición {}'.format(max_valor, max_pos + 1))        \n",
    "print('El menor es el {} y se ha introducido en la posición {}'.format(min_valor, min_pos + 1))\n"
   ]
  },
  {
   "cell_type": "code",
   "execution_count": null,
   "metadata": {},
   "outputs": [],
   "source": [
    "num = eval(input('Introduce how many numbers are you going to introduce: '))\n",
    "\n",
    "seq = []\n",
    "for i in range(num):\n",
    "    a = eval(input('Introduce a number: '))\n",
    "    seq.append(a)\n",
    "    \n",
    "print('Smallest is {} and has been introduced in position {}'.format(min(seq),seq.index(min(seq)) + 1)) "
   ]
  },
  {
   "cell_type": "markdown",
   "metadata": {},
   "source": [
    "### P3_05.  \n",
    "Write a program that reads a positive integer **num** and checks if it is a prime number\n",
    "Example:\n",
    " \n",
    "~~~\n",
    "Introduce a positive number: 247\n",
    "247 IS not a prime number\n",
    "~~~  "
   ]
  },
  {
   "cell_type": "code",
   "execution_count": 4,
   "metadata": {},
   "outputs": [
    {
     "name": "stdout",
     "output_type": "stream",
     "text": [
      "Introduce a positive number: 13*53\n",
      "689 is not a prime number\n",
      "13 times 53 is 689\n"
     ]
    }
   ],
   "source": [
    "# Write here your program\n",
    "import math\n",
    "\n",
    "num = eval(input(\"Introduce a positive number: \"))\n",
    "\n",
    "for i in range(2,int(math.sqrt(num))):\n",
    "    if (num % i) == 0:\n",
    "        print(num,\"is not a prime number\")\n",
    "        print(i,\"times\",num//i,\"is\",num)\n",
    "        break\n",
    "else:\n",
    "    print(num,\"is a prime number\")\n"
   ]
  },
  {
   "cell_type": "markdown",
   "metadata": {},
   "source": [
    "### P3_06.  \n",
    "Write a program that asks the user for a number. Then (if the number is smaller than 10)  the program asks for number until the introduced number is bigger than 10.\n",
    "Example:\n",
    "\n",
    "~~~\n",
    "   Introduce a number: 4  \n",
    "    Not bigger that 10, introduce another one: 7  \n",
    "    Not bigger that 10, introduce another one: 15\n",
    "    Correct, 15 is bigger than 10\n",
    "~~~\n",
    "\n",
    "    "
   ]
  },
  {
   "cell_type": "code",
   "execution_count": null,
   "metadata": {
    "collapsed": true
   },
   "outputs": [],
   "source": [
    "num = eval(input(\"Introduce a positive number: \"))\n",
    "\n",
    "while  num < 10:\n",
    "    num = eval(input(\"Not bigger that 10, introduce another one: \"))\n",
    "\n",
    "print(\"Correct, {} is bigger than 10\".format(num))\n"
   ]
  },
  {
   "cell_type": "markdown",
   "metadata": {},
   "source": [
    "### P3_07.  \n",
    "Write a program that reads a sequence of characters finishing with ‘0’ and makes an addition following the next rules:\n",
    "• Lower case letters: 1 point.\n",
    "• Upper case letter: 2 points.\n",
    "• For numbers use his own value. (for example ‘5’ is 5). Function **ord(car)** returns the ASCII value of the character stored in the variable **car**. The value of digit ‘0’ in ASCII table is 48.\n",
    "• any other character: 0 points.\n",
    "Example:\n",
    "\n",
    "~~~\n",
    "Introduce a sequence finished by ‘0’:\n",
    "a  \n",
    "P  \n",
    "E  \n",
    ",  \n",
    "4  \n",
    "0\n",
    "The final result is 9\n",
    "~~~ "
   ]
  },
  {
   "cell_type": "code",
   "execution_count": null,
   "metadata": {
    "collapsed": true
   },
   "outputs": [],
   "source": [
    "c = input('Introduce a character: ')\n",
    "suma = 0 \n",
    "while c != '0':\n",
    "    if c.isdigit():\n",
    "        suma += int(c) # ord(c) - 48\n",
    "    elif c.islower():\n",
    "        suma = suma + 1\n",
    "    elif c.isupper():\n",
    "        suma = suma + 2\n",
    "        \n",
    "    c = input('Introduce a character: ')\n",
    "        \n",
    "print(\"The final result is {}\".format(suma))   "
   ]
  },
  {
   "cell_type": "markdown",
   "metadata": {},
   "source": [
    "### P3_08.  \n",
    "Write a program that asks for 2 integers and then asks for number until one of them is out of the range (interval) of both numbers.\n",
    "Example:\n",
    " \n",
    "~~~\n",
    "Lower limit: 3\n",
    "Upper limit: 12\n",
    "Introduce a number: 6  \n",
    "Introduce a number: 12  \n",
    "Introduce a number: 10   \n",
    "Introduce a number: 23  \n",
    "23 is out of the range\n",
    "~~~\n",
    "    "
   ]
  },
  {
   "cell_type": "code",
   "execution_count": null,
   "metadata": {
    "collapsed": true
   },
   "outputs": [],
   "source": [
    "a = eval(input(\"Lower limit: \"))\n",
    "b = eval(input(\"Upper limit: \"))\n",
    "\n",
    "num = eval(input(\"Introduce a positive number: \"))\n",
    "\n",
    "while  num >= a and num <=b:\n",
    "    num = eval(input(\"Introduce a positive number: \"))\n",
    "    \n",
    "print(\"{} is out of the range [{},{}]\".format(num,a,b))    \n"
   ]
  },
  {
   "cell_type": "markdown",
   "metadata": {},
   "source": [
    "### *P3_09.  \n",
    "Write a program that adds integers as the user is introducing them thru the keyboard. The program has to stop as soon as the sum is bigger than 2000. The program has to show as result how many number have been introduced, the total sum of all the integers, the minimum and the maximum of the sequence.\n",
    "Example:\n",
    "\n",
    "~~~\n",
    "Introduce an integer sequence: \n",
    "648   \n",
    "823  \n",
    "203   \n",
    "784   \n",
    "You introduced 4 numbers, total sum is 2458 and max and min are 823 & 203\n",
    "~~~\n",
    "\n",
    "    "
   ]
  },
  {
   "cell_type": "code",
   "execution_count": null,
   "metadata": {
    "collapsed": true
   },
   "outputs": [],
   "source": [
    "# with counter variables\n",
    "\n",
    "suma = 0\n",
    "num = 0\n",
    "maximo = float('-Inf')\n",
    "minimo = float('Inf')\n",
    "\n",
    "print(\"Introduce an integer sequence: \")\n",
    "while suma <= 2000:\n",
    "    a = eval(input())\n",
    "    if a > maximo:\n",
    "        maximo = a\n",
    "    if a < minimo:\n",
    "        minimo = a\n",
    "    suma += a\n",
    "    num += 1\n",
    "    \n",
    "print(\"You introduced {} numbers total sum is {} \\\n",
    "and max and min are {} & {}\" \\\n",
    ".format(num, suma, maximo, minimo))  \n"
   ]
  },
  {
   "cell_type": "code",
   "execution_count": null,
   "metadata": {},
   "outputs": [],
   "source": [
    "# with list functions\n",
    "\n",
    "seq = []\n",
    "print(\"Introduce an integer sequence: \")\n",
    "while sum(seq) <= 2000:\n",
    "    seq.append(eval(input()))\n",
    "\n",
    "print(\"You introduced {} numbers \\\n",
    "total sum is {} and max and min are {} & {}\" \\\n",
    ".format(len(seq), sum(seq), max(seq), min(seq)))    "
   ]
  },
  {
   "cell_type": "markdown",
   "metadata": {},
   "source": [
    "### *P3_10.  \n",
    "Write a program that reads 2 positive integers and returns his Greatest Common Divisor.\n",
    "Example:\n",
    "\n",
    "~~~\n",
    "Introduce 2 positive integers: \n",
    "32  \n",
    "24\n",
    "The Greatest Common Divisor is 8\n",
    "~~~\n",
    "    "
   ]
  },
  {
   "cell_type": "code",
   "execution_count": 7,
   "metadata": {},
   "outputs": [
    {
     "name": "stdout",
     "output_type": "stream",
     "text": [
      "Introduce a number: 15\n",
      "Introduce another number: 7\n",
      "The Greatest Common Divisor is 1\n"
     ]
    }
   ],
   "source": [
    "\n",
    "a = eval(input(\"Introduce a number: \"))\n",
    "b = eval(input(\"Introduce another number: \"))\n",
    "while b != 0:\n",
    "    (a, b) = (b, a % b)\n",
    "\n",
    "print(\"The Greatest Common Divisor is {}\".format(a))\n"
   ]
  },
  {
   "cell_type": "code",
   "execution_count": null,
   "metadata": {},
   "outputs": [],
   "source": [
    "#using a recursive function\n",
    "\n",
    "def gcd_recursive(a, b):\n",
    "    if b == 0:\n",
    "        return a\n",
    "    else:\n",
    "        return gcd_recursive(b, a % b)"
   ]
  },
  {
   "cell_type": "code",
   "execution_count": null,
   "metadata": {},
   "outputs": [],
   "source": [
    "a = eval(input(\"Introduce a number: \"))\n",
    "b = eval(input(\"Introduce another number: \"))\n",
    "gcd = gcd_recursive(a,b)\n",
    "\n",
    "print(\"The Greatest Common Divisor is {}\".format(gcd))"
   ]
  },
  {
   "cell_type": "markdown",
   "metadata": {},
   "source": [
    "### P3_11.  \n",
    "Write a program that shows the **m** (**m**>=3) first terms of the number sequence created as follows:\n",
    "• Fits term: 1\n",
    "• Second term: 5\n",
    "• Third and next terms: sum of the 2 previous.\n",
    "Example:\n",
    "\n",
    "~~~\n",
    "How many terms do you want to show?: 8  \n",
    "The sequence is:  1  5  6  11  17  28  45  73\n",
    "~~~"
   ]
  },
  {
   "cell_type": "code",
   "execution_count": 2,
   "metadata": {},
   "outputs": [
    {
     "name": "stdout",
     "output_type": "stream",
     "text": [
      "How many terms do you want to show?: 8\n",
      "Your sequence is [1, 5, 6, 11, 17, 28, 45, 73]\n"
     ]
    }
   ],
   "source": [
    "# Write here your program\n",
    "num = eval(input(\"How many terms do you want to show?: \"))\n",
    "seq = [1, 5]\n",
    "\n",
    "while len(seq) < num:    \n",
    "    seq.append(seq[-1]+seq[-2])\n",
    "    \n",
    "print(\"Your sequence is {}\".format(seq))\n"
   ]
  },
  {
   "cell_type": "markdown",
   "metadata": {},
   "source": [
    "### P3_12.  \n",
    "Implement a program that asks for **n** numbers. The programs has to return the biggest difference (absolute value) between 2 consecutive terms.\n",
    "Example:\n",
    "\n",
    "~~~\n",
    "How many terms are you introducing?: 6\n",
    "Introduce the 6 numbers: \n",
    "3  \n",
    "-8     \n",
    "-2  \n",
    "30  \n",
    "7   \n",
    "6\n",
    "The biggest difference between 2 consecutive numbers is 32\n",
    "~~~"
   ]
  },
  {
   "cell_type": "code",
   "execution_count": null,
   "metadata": {},
   "outputs": [],
   "source": [
    "num = eval(input(\"How many terms do you want to use?: \"))\n",
    "seq=[]\n",
    "\n",
    "for i in range(num):\n",
    "    seq.append(eval(input(\"{}: \".format(i+1))))\n",
    "\n",
    "\n",
    "    "
   ]
  },
  {
   "cell_type": "code",
   "execution_count": 9,
   "metadata": {},
   "outputs": [
    {
     "data": {
      "text/plain": [
       "[2, 2, 3, -6, -1, 6, -2, -2, -3]"
      ]
     },
     "execution_count": 9,
     "metadata": {},
     "output_type": "execute_result"
    }
   ],
   "source": [
    "dif_seq = [seq[i] - seq[i-1] for i in range(1,num)]"
   ]
  },
  {
   "cell_type": "code",
   "execution_count": 8,
   "metadata": {},
   "outputs": [
    {
     "data": {
      "text/plain": [
       "[2, 2, 3, -6, -1, 6, -2, -2, -3]"
      ]
     },
     "execution_count": 8,
     "metadata": {},
     "output_type": "execute_result"
    }
   ],
   "source": [
    "dif_seq = [x - seq[i - 1] for i, x in enumerate(seq) if i > 0]"
   ]
  },
  {
   "cell_type": "code",
   "execution_count": 7,
   "metadata": {},
   "outputs": [
    {
     "data": {
      "text/plain": [
       "[2, 2, 3, -6, -1, 6, -2, -2, -3]"
      ]
     },
     "execution_count": 7,
     "metadata": {},
     "output_type": "execute_result"
    }
   ],
   "source": [
    "dif_seq = [t - s for s, t in zip(seq, seq[1:])]"
   ]
  },
  {
   "cell_type": "code",
   "execution_count": 10,
   "metadata": {},
   "outputs": [
    {
     "name": "stdout",
     "output_type": "stream",
     "text": [
      "The biggest difference between 2 consecutive numbers is 6\n"
     ]
    }
   ],
   "source": [
    "print('The biggest difference between 2 consecutive numbers is {}'.format(max(dif_seq)))"
   ]
  },
  {
   "cell_type": "markdown",
   "metadata": {},
   "source": [
    "### *P3_13.  \n",
    "Write a program that reads a sequence of characters finishing by ‘.’ and returns how many times the ‘a7’ is inside the sequence.\n",
    "Example:\n",
    "\n",
    "~~~\n",
    "Introduce a character sequence finishing by ‘.’:\n",
    "R  \n",
    "t  \n",
    "5  \n",
    "4  \n",
    "a  \n",
    "a  \n",
    "7  \n",
    "A  \n",
    "a  \n",
    "7  \n",
    "2\n",
    ".\n",
    "Sequence a7 is 2 times inside your sequence\n",
    "~~~"
   ]
  },
  {
   "cell_type": "code",
   "execution_count": null,
   "metadata": {
    "collapsed": true
   },
   "outputs": [],
   "source": [
    "c = input('Introduce a character: ')\n",
    "num_a7 = 0 \n",
    "last = ''\n",
    "\n",
    "while c != '.':\n",
    "    if c == '7' and last=='a':\n",
    "        num_a += 1\n",
    "    last = c\n",
    "    c = input('Introduce a character: ')\n",
    "    \n",
    "\n",
    "print('There are {} a7 subsequences in your sequence'.format(num_a7)) \n"
   ]
  },
  {
   "cell_type": "markdown",
   "metadata": {},
   "source": [
    "### *P3_14.  \n",
    "Write a program that asks for a number and returns his prime factors.\n",
    "Example:\n",
    "\n",
    "~~~\n",
    "Introduce a number: 90\n",
    "prime factors are 2  3  3  5\n",
    "~~~"
   ]
  },
  {
   "cell_type": "code",
   "execution_count": 13,
   "metadata": {},
   "outputs": [
    {
     "name": "stdout",
     "output_type": "stream",
     "text": [
      "[2, 3, 3, 5]\n"
     ]
    }
   ],
   "source": [
    "# Write here your program\n",
    "n = 90\n",
    "factors=[]\n",
    "d=2\n",
    "\n",
    "while(n>1):            \n",
    "    while n%d==0:\n",
    "        factors.append(d)\n",
    "        n=n/d\n",
    "    d+=1\n",
    "        \n",
    "print(factors)"
   ]
  },
  {
   "cell_type": "markdown",
   "metadata": {},
   "source": [
    "### *P3_15.  \n",
    "Write a program that asks for a number **n**. Then he reads **n** integers and has to say if they were or not in an increasing order.\n",
    "Example:\n",
    "\n",
    "~~~\n",
    "Introduce the n number: 6  \n",
    "Introduce number: 3  \n",
    "Introduce number: 7  \n",
    "Introduce number: 12  \n",
    "Introduce number: 18  \n",
    "Introduce number: 9 \n",
    "Introduce number: 21 \n",
    "The sequence is NOT in increasing order\n",
    "~~~"
   ]
  },
  {
   "cell_type": "code",
   "execution_count": null,
   "metadata": {
    "collapsed": true
   },
   "outputs": [],
   "source": [
    "num = eval(input(\"How many terms do you want to use?: \"))\n",
    "maximo = float('-Inf')\n",
    "ordered = True\n",
    "\n",
    "for i in range(num):\n",
    "    n = eval(input(\"Introduce number: \"))\n",
    "    if n < maximo:\n",
    "        ordered = False\n",
    "    else:\n",
    "        maximo = n\n",
    "        \n",
    "if ordered:\n",
    "    print(\"The sequence is in increasing order\")\n",
    "else:\n",
    "    print(\"The sequence is NOT in increasing order\")\n"
   ]
  },
  {
   "cell_type": "code",
   "execution_count": null,
   "metadata": {},
   "outputs": [],
   "source": [
    "num = eval(input(\"How many terms do you want to use?: \"))\n",
    "seq=[]\n",
    "\n",
    "for i in range(num):\n",
    "    seq.append(eval(input(\"{}: \".format(i+1))))\n",
    "    \n",
    "ordered = all([a <= b for a,b in zip(seq,seq[1:])])\n",
    "\n",
    "if ordered:\n",
    "    print(\"The sequence is in increasing order\")\n",
    "else:\n",
    "    print(\"The sequence is NOT in increasing order\")"
   ]
  },
  {
   "cell_type": "markdown",
   "metadata": {},
   "source": [
    "### P3_16.  \n",
    "Write a program that reads an integer **n**  and displays on the screen the following drawing.\n",
    "Examples: \n",
    "~~~\n",
    "Introduce an integer: 4\t        Introduce an integer: 5\n",
    "\n",
    "    1                               1  \n",
    "    1 2                             1 2  \n",
    "    1 2 3                           1 2 3  \n",
    "\t1 2 3 4                         1 2 3 4  \n",
    "\t                                1 2 3 4 5   \n",
    "~~~"
   ]
  },
  {
   "cell_type": "code",
   "execution_count": 22,
   "metadata": {},
   "outputs": [
    {
     "name": "stdout",
     "output_type": "stream",
     "text": [
      "Introduce a number: 4\n",
      "1 \n",
      "\n",
      "1 2 \n",
      "\n",
      "1 2 3 \n",
      "\n",
      "1 2 3 4 \n",
      "\n"
     ]
    }
   ],
   "source": [
    "# Write here your program\n",
    "n = eval(input(\"Introduce a number: \"))\n",
    "for i in range(n):\n",
    "    for j in range(i+1):\n",
    "        print(j+1, end=' ')\n",
    "    print('\\n')\n"
   ]
  },
  {
   "cell_type": "markdown",
   "metadata": {},
   "source": [
    "### *P3_17.  \n",
    "Write a program that reads an integer **n** and displays on the screen the following drawing.\n",
    "Examples: \n",
    "~~~\n",
    " Introduce an integer: 4\t      Introduce an integer: 5\n",
    "\n",
    "    1 2 3 4                         1 2 3 4 5    \n",
    "    2 3 4 4                         2 3 4 5 5  \n",
    "    3 4 4 4                         3 4 5 5 5  \n",
    "    4 4 4 4                         4 5 5 5 5  \n",
    "                                    5 5 5 5 5  \n",
    "~~~"
   ]
  },
  {
   "cell_type": "code",
   "execution_count": 17,
   "metadata": {},
   "outputs": [
    {
     "name": "stdout",
     "output_type": "stream",
     "text": [
      "Introduce a number: 4\n",
      "1 2 3 4 \n",
      "\n",
      "1 2 3 4 \n",
      "\n",
      "1 2 3 4 \n",
      "\n",
      "1 2 3 4 \n",
      "\n"
     ]
    }
   ],
   "source": [
    "n = eval(input(\"Introduce a number: \"))\n",
    "for i in range(n):\n",
    "    for j in range(n):\n",
    "        print(j+1, end=' ')\n",
    "    print('\\n')\n"
   ]
  },
  {
   "cell_type": "markdown",
   "metadata": {},
   "source": [
    "### P3_18.  \n",
    "Write a program that reads a sequence of integers finished by 0 and returns the number of even numbers it contains after the first even number (the last 0 not included)\n",
    "Example:\n",
    "\n",
    "~~~\n",
    "Introduce an integer sequence:\n",
    "6  \n",
    "2  \n",
    "2  \n",
    "34  \n",
    "1  \n",
    "7  \n",
    "6  \n",
    "19  \n",
    "0\n",
    "There is 1 even number after the first odd number\n",
    "~~~\n",
    "You can improve the program with the right messages for any result: \n",
    "~~~\n",
    "No even numbers after the first odd number\n",
    "There is one even number after the first odd number\n",
    "There are 4 even numbers after the first odd number  \n",
    "~~~"
   ]
  },
  {
   "cell_type": "code",
   "execution_count": null,
   "metadata": {
    "collapsed": true
   },
   "outputs": [],
   "source": [
    "# Write here your program\n"
   ]
  },
  {
   "cell_type": "markdown",
   "metadata": {},
   "source": [
    "### *P3_19.  \n",
    "Write a program that reads a sequence of **n** integers and says how many elements of the sequence are bigger than his previous one (in the sequence)\n",
    "Example:\n",
    " \n",
    "~~~\n",
    "Introduce an integer sequence:\n",
    "6  \n",
    "2  \n",
    "2  \n",
    "34  \n",
    "1  \n",
    "7  \n",
    "6  \n",
    "19  \n",
    "There are 3 numbers bigger than his previous one\n",
    "~~~\n",
    "You can improve the program with the right messages for any result:\n",
    "~~~\n",
    "No number is bigger than his previous one \n",
    "~~~"
   ]
  },
  {
   "cell_type": "code",
   "execution_count": null,
   "metadata": {
    "collapsed": true
   },
   "outputs": [],
   "source": [
    "# Write here your program\n"
   ]
  },
  {
   "cell_type": "markdown",
   "metadata": {},
   "source": [
    "### P3_20.  \n",
    "Write a program that reads a sequence of **n** integers and says how many positive and negative numbers are within the sequence.\n",
    "Example:\n",
    "\n",
    "~~~\n",
    "How many numbers do you want to read?: 5\n",
    "6  \n",
    "-2  \n",
    "2  \n",
    "-34  \n",
    "1  \n",
    "There are 2 negative and  3 positive numbers\n",
    "~~~"
   ]
  },
  {
   "cell_type": "code",
   "execution_count": null,
   "metadata": {
    "collapsed": true
   },
   "outputs": [],
   "source": [
    "# Write here your program\n"
   ]
  }
 ],
 "metadata": {
  "kernelspec": {
   "display_name": "Python 3",
   "language": "python",
   "name": "python3"
  },
  "language_info": {
   "codemirror_mode": {
    "name": "ipython",
    "version": 3
   },
   "file_extension": ".py",
   "mimetype": "text/x-python",
   "name": "python",
   "nbconvert_exporter": "python",
   "pygments_lexer": "ipython3",
   "version": "3.6.6"
  }
 },
 "nbformat": 4,
 "nbformat_minor": 2
}
